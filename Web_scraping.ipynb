{
 "cells": [
  {
   "cell_type": "code",
   "execution_count": 1,
   "id": "62625b65",
   "metadata": {},
   "outputs": [],
   "source": [
    "from selenium import webdriver\n",
    "from bs4 import BeautifulSoup\n",
    "import pandas as pd"
   ]
  },
  {
   "cell_type": "code",
   "execution_count": 2,
   "id": "cb3bda11",
   "metadata": {},
   "outputs": [],
   "source": [
    "prices = []\n",
    "beds = []\n",
    "baths = []\n",
    "sizes = []\n",
    "addresses = []"
   ]
  },
  {
   "cell_type": "code",
   "execution_count": 3,
   "id": "a7ae5f84",
   "metadata": {},
   "outputs": [],
   "source": [
    "def scraping(page_numbers):\n",
    "    pg_num = str(page_numbers)\n",
    "    driver = webdriver.Chrome()\n",
    "    url = \"https://www.realtor.com/realestateandhomes-search/New-York_NY/pg-\" + pg_num\n",
    "    driver.get(url)\n",
    "    content = driver.page_source\n",
    "    soup = BeautifulSoup(content, features='html.parser')\n",
    "    for element in soup.findAll('li', attrs={'class': 'component_property-card'}):\n",
    "       price = element.find('span', attrs={'data-label': 'pc-price'})\n",
    "       bed = element.find('li', attrs={'data-label': 'pc-meta-beds'})\n",
    "       bath = element.find('li', attrs={'data-label': 'pc-meta-baths'})\n",
    "       size = element.find('li', attrs={'data-label': 'pc-meta-sqft'})\n",
    "       address = element.find('div', attrs={'data-label': 'pc-address'})\n",
    "\n",
    "       if bed and bath:\n",
    "           nr_beds = bed.find('span', attrs={'data-label': 'meta-value'})\n",
    "           nr_baths = bath.find('span', attrs={'data-label': 'meta-value'})\n",
    "\n",
    "           if nr_beds and float(nr_beds.text) >= 2 and nr_baths :\n",
    "               beds.append(nr_beds.text)\n",
    "               baths.append(nr_baths.text)\n",
    "\n",
    "               if price and price.text:\n",
    "                   prices.append(price.text)\n",
    "               else:\n",
    "                   prices.append('No display data')\n",
    "\n",
    "               if size and size.text:\n",
    "                   sizes.append(size.text)\n",
    "               else:\n",
    "                   sizes.append('No display data')\n",
    "\n",
    "               if address and address.text:\n",
    "                   addresses.append(address.text)\n",
    "               else:\n",
    "                   addresses.append('No display data')"
   ]
  },
  {
   "cell_type": "code",
   "execution_count": 4,
   "id": "471cad97",
   "metadata": {},
   "outputs": [],
   "source": [
    "page_numbers = 15\n",
    "for i in range(1,page_numbers,1):\n",
    "    scraping(i)\n",
    "df = pd.DataFrame({'Address': addresses, 'Price': prices, 'Beds': beds, 'Baths': baths, 'Sizes': sizes})\n",
    "df.to_csv('scraped_data.csv', index=False, encoding='utf-8')"
   ]
  },
  {
   "cell_type": "code",
   "execution_count": null,
   "id": "37db9520",
   "metadata": {},
   "outputs": [],
   "source": []
  }
 ],
 "metadata": {
  "kernelspec": {
   "display_name": "Python 3 (ipykernel)",
   "language": "python",
   "name": "python3"
  },
  "language_info": {
   "codemirror_mode": {
    "name": "ipython",
    "version": 3
   },
   "file_extension": ".py",
   "mimetype": "text/x-python",
   "name": "python",
   "nbconvert_exporter": "python",
   "pygments_lexer": "ipython3",
   "version": "3.9.7"
  }
 },
 "nbformat": 4,
 "nbformat_minor": 5
}

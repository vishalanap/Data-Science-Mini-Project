{
 "cells": [
  {
   "cell_type": "markdown",
   "id": "9c39bad1",
   "metadata": {},
   "source": [
    "#### Web Scraping : Using Selenium and BeautifulSoup"
   ]
  },
  {
   "cell_type": "markdown",
   "id": "59defa53",
   "metadata": {},
   "source": [
    "Web scraping is the practice of automatically retrieving the content of user-facing web pages, analyzing them, and extracting/structuring useful information.\n",
    "##### Steps of Web Scraping : \n",
    "1. Importing and Installing necessary libraries and webdrivers (bridge between selenium and chrome or any browser).\n",
    "2. Understanding Basic Selenium methods and BeautifulSoup methods to get the required data.\n",
    "3. Converting to Pandas Dataframe and CSV."
   ]
  },
  {
   "cell_type": "code",
   "execution_count": 1,
   "id": "62625b65",
   "metadata": {},
   "outputs": [],
   "source": [
    "#importing libraries\n",
    "from selenium import webdriver #selenium is used to automate the browser to do certain tasks\n",
    "from bs4 import BeautifulSoup #web-scrapping framework\n",
    "import pandas as pd"
   ]
  },
  {
   "cell_type": "code",
   "execution_count": 2,
   "id": "cb3bda11",
   "metadata": {},
   "outputs": [],
   "source": [
    "prices = []\n",
    "beds = []\n",
    "baths = []\n",
    "sizes = []\n",
    "addresses = []"
   ]
  },
  {
   "cell_type": "code",
   "execution_count": 3,
   "id": "a7ae5f84",
   "metadata": {},
   "outputs": [],
   "source": [
    "def scraping(page_numbers):\n",
    "    pg_num = str(page_numbers)\n",
    "    driver = webdriver.Chrome() #web driver automatically open the browser to acess website of choices\n",
    "    url = \"https://www.realtor.com/realestateandhomes-search/New-York_NY/pg-\" + pg_num\n",
    "    driver.get(url)\n",
    "    content = driver.page_source #retrieve page source in string format\n",
    "    #html parser allows : finding by tag names, finding by class names, getting whole text, finding href\n",
    "    soup = BeautifulSoup(content, features='html.parser')\n",
    "    for element in soup.findAll('li', attrs={'class': 'component_property-card'}):\n",
    "       price = element.find('span', attrs={'data-label': 'pc-price'})\n",
    "       bed = element.find('li', attrs={'data-label': 'pc-meta-beds'})\n",
    "       bath = element.find('li', attrs={'data-label': 'pc-meta-baths'})\n",
    "       size = element.find('li', attrs={'data-label': 'pc-meta-sqft'})\n",
    "       address = element.find('div', attrs={'data-label': 'pc-address'})\n",
    "\n",
    "       if bed and bath:\n",
    "           nr_beds = bed.find('span', attrs={'data-label': 'meta-value'})\n",
    "           nr_baths = bath.find('span', attrs={'data-label': 'meta-value'})\n",
    "\n",
    "           if nr_beds and float(nr_beds.text) >= 2 and nr_baths :\n",
    "               beds.append(nr_beds.text) #text method returns text without separators\n",
    "               baths.append(nr_baths.text)\n",
    "\n",
    "               if price and price.text:\n",
    "                   prices.append(price.text)\n",
    "               else:\n",
    "                   prices.append('missing')\n",
    "\n",
    "               if size and size.text:\n",
    "                   sizes.append(size.text)\n",
    "               else:\n",
    "                   sizes.append('missing')\n",
    "\n",
    "               if address and address.text:\n",
    "                   addresses.append(address.text)\n",
    "               else:\n",
    "                   addresses.append('missing')"
   ]
  },
  {
   "cell_type": "code",
   "execution_count": 4,
   "id": "7bd4fba8",
   "metadata": {},
   "outputs": [],
   "source": [
    "page_numbers = 20\n",
    "for i in range(1,page_numbers,1):\n",
    "    scraping(i)\n",
    "df = pd.DataFrame({'Address': addresses, 'Price': prices, 'Beds': beds, 'Baths': baths, 'Sizes': sizes})\n",
    "df.to_csv('scraped_data2.csv', index=False, encoding='utf-8')"
   ]
  }
 ],
 "metadata": {
  "kernelspec": {
   "display_name": "Python 3 (ipykernel)",
   "language": "python",
   "name": "python3"
  },
  "language_info": {
   "codemirror_mode": {
    "name": "ipython",
    "version": 3
   },
   "file_extension": ".py",
   "mimetype": "text/x-python",
   "name": "python",
   "nbconvert_exporter": "python",
   "pygments_lexer": "ipython3",
   "version": "3.9.7"
  }
 },
 "nbformat": 4,
 "nbformat_minor": 5
}
